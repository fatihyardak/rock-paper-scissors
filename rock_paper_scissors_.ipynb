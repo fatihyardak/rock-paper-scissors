{
  "nbformat": 4,
  "nbformat_minor": 0,
  "metadata": {
    "colab": {
      "provenance": []
    },
    "kernelspec": {
      "name": "python3",
      "display_name": "Python 3"
    },
    "language_info": {
      "name": "python"
    }
  },
  "cells": [
    {
      "cell_type": "code",
      "execution_count": 1,
      "metadata": {
        "id": "b8CyJDQKD9-9"
      },
      "outputs": [],
      "source": [
        "import random\n",
        "\n",
        "def tas_kagit_makas_FATIH_YARDAK():\n",
        "    print(\"Welcome to our Game! Here are the rules:\")\n",
        "    print(\"The game will last 3 rounds, and the side that wins at least 2 rounds will be the winner.\")\n",
        "    print(\"To play the game, type 'rock', 'paper', or 'scissors'.\")\n",
        "    print(\"Remember: Rock beats scissors, scissors beat paper, and paper beats rock.\")\n",
        "    print(\"To exit the game, type 'exit'.\")\n",
        "\n",
        "\n",
        "    options = [\"rock\", \"paper\", \"scissors\"]\n",
        "    player_score = 0\n",
        "    computer_score = 0\n",
        "\n",
        "    while True:\n",
        "        while player_score < 2 and computer_score < 2:\n",
        "            player_choice = input(\"Please enter your choice (rock, paper, scissors): \").lower()\n",
        "\n",
        "            if player_choice == \"exit\":\n",
        "                print(\"The game is over.\")\n",
        "                return\n",
        "\n",
        "            while player_choice not in options:\n",
        "                print(\"Invalid choice. Please try again.\")\n",
        "                player_choice = input(\"Invalid choice. Please try again: \").lower()\n",
        "\n",
        "            computer_choice = random.choice(options)\n",
        "            print(f\"Computer's choice is : {computer_choice}\")\n",
        "\n",
        "            if player_choice == computer_choice:\n",
        "                print(\"Draw!\")\n",
        "            elif (player_choice == \"rock\" and computer_choice == \"scissors\") or \\\n",
        "                 (player_choice == \"paper\" and computer_choice == \"rock\") or \\\n",
        "                 (player_choice == \"scissors\" and computer_choice == \"paper\"):\n",
        "                print(\"The player won this round!\")\n",
        "                player_score += 1\n",
        "            else:\n",
        "                print(\"The computer won this round!\")\n",
        "                computer_score += 1\n",
        "\n",
        "        if player_score > computer_score:\n",
        "            print(\"Congratulations! You won the game!\")\n",
        "        else:\n",
        "            print(\"Oops! You lost the game\" )\n",
        "\n",
        "        play_again = input(\"Do you want to play again? (yes/no): \").lower()\n",
        "\n",
        "        if play_again == \"yes\":\n",
        "            print(\"The game is starting again!\")\n",
        "            player_score = 0\n",
        "            computer_score = 0\n",
        "        else:\n",
        "            print(\"Game Over!\")\n",
        "            break\n"
      ]
    }
  ]
}